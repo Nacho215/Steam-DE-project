{
 "cells": [
  {
   "cell_type": "code",
   "execution_count": 14,
   "metadata": {},
   "outputs": [],
   "source": [
    "import pandas as pd\n",
    "import numpy as np\n",
    "import json\n",
    "\n",
    "df = pd.read_csv('../output/steam_app_data_raw.csv')\n",
    "df = df[~df['name'].isna()]\n",
    "df = df[~df['developer'].isna()]\n",
    "df = df[~df['publisher'].isna()]\n",
    "df.rename({\"appid\" : \"id_app\"}, axis=1, inplace=True)\n",
    "df[\"price_usd\"] = df[\"price\"] / 100.0\n",
    "df[\"initial_price_usd\"] = df[\"initialprice\"] / 100.0"
   ]
  },
  {
   "cell_type": "code",
   "execution_count": null,
   "metadata": {},
   "outputs": [],
   "source": [
    "df[\"genre\"] = df[\"genre\"].apply(lambda x : str(x).split(','))\n",
    "df_genres = pd.DataFrame(df.explode(\"genre\")[\"genre\"])\n",
    "df_genres[\"genre\"] = df_genres[\"genre\"].apply(lambda x : x.strip())\n",
    "df_genres = df_genres.drop_duplicates(subset=\"genre\")\n",
    "df_genres = df_genres[df_genres[\"genre\"]!='nan']\n",
    "df_genres = df_genres.reset_index(drop=True).reset_index(names='id_genre')"
   ]
  },
  {
   "cell_type": "code",
   "execution_count": 4,
   "metadata": {},
   "outputs": [],
   "source": [
    "df_apps_genres = df.explode(\"genre\")[[\"id_app\", \"genre\"]].reset_index(drop=True)\n",
    "df_apps_genres = df_apps_genres[df_apps_genres[\"genre\"]!='nan']\n",
    "df_apps_genres[\"genre\"] = df_apps_genres[\"genre\"].apply(lambda x : x.strip())\n",
    "df_apps_genres = df_apps_genres.merge(df_genres, on='genre', how='left').drop('genre', axis=1)"
   ]
  },
  {
   "cell_type": "code",
   "execution_count": 213,
   "metadata": {},
   "outputs": [],
   "source": [
    "df.drop(columns=['genre'], inplace=True)"
   ]
  },
  {
   "cell_type": "code",
   "execution_count": 18,
   "metadata": {},
   "outputs": [],
   "source": [
    "def normalize_list_column(\n",
    "        original_df: pd.DataFrame,\n",
    "        id_column: str,\n",
    "        list_column: str,\n",
    "        new_table_id_column: str\n",
    "    ) -> tuple:\n",
    "        # Create a copy of original dataframe\n",
    "        df = original_df.copy()\n",
    "\n",
    "        # Create new table with unique values from that column\n",
    "        df_new_table = pd.DataFrame(df.explode(list_column)[list_column])\n",
    "        df_new_table[list_column] = df_new_table[list_column] .apply(lambda x : x.strip())\n",
    "        df_new_table = df_new_table.drop_duplicates(subset=list_column)\n",
    "        df_new_table = df_new_table[df_new_table[list_column]!='nan']\n",
    "        df_new_table = df_new_table.reset_index(drop=True).reset_index(names=new_table_id_column)\n",
    "\n",
    "        # Create new intermediate table that joins two tables\n",
    "        df_intermediate_table = df.explode(list_column)[[id_column, list_column]].reset_index(drop=True)\n",
    "        df_intermediate_table = df_intermediate_table[df_intermediate_table[list_column]!='nan']\n",
    "        df_intermediate_table[list_column] = df_intermediate_table[list_column].apply(lambda x : x.strip())\n",
    "        df_intermediate_table = df_intermediate_table.merge(df_new_table, on=list_column, how='left').drop(list_column, axis=1)\n",
    "\n",
    "        # Drop list column from original table\n",
    "        df.drop(columns=[list_column], inplace=True)\n",
    "\n",
    "        # Return 3 dataframes in a tuple\n",
    "        return df, df_new_table, df_intermediate_table"
   ]
  },
  {
   "cell_type": "code",
   "execution_count": 43,
   "metadata": {},
   "outputs": [
    {
     "data": {
      "text/plain": [
       "[('2D Platformer', 52),\n",
       " ('Action', 51),\n",
       " ('Platformer', 46),\n",
       " ('Shoot Em Up', 43),\n",
       " ('Singleplayer', 40),\n",
       " ('Casual', 39),\n",
       " ('2D', 37),\n",
       " ('Controller', 29),\n",
       " ('Arcade', 27),\n",
       " ('Pixel Graphics', 25),\n",
       " ('Retro', 23),\n",
       " ('Indie', 21),\n",
       " ('Combat', 21),\n",
       " ('Collectathon', 17),\n",
       " ('Action-Adventure', 15),\n",
       " ('Old School', 13)]"
      ]
     },
     "execution_count": 43,
     "metadata": {},
     "output_type": "execute_result"
    }
   ],
   "source": [
    "def transform_tags_column(\n",
    "       col: str\n",
    "    ) -> list:\n",
    "        # Return empty list if no tags\n",
    "        if not col:\n",
    "            return []\n",
    "        # Remove decades quotes (1990's)\n",
    "        col = col.replace(\"0'\", \"0\")\n",
    "        # Remove quotes from abbreviations (Shoot 'Em Up)\n",
    "        col = col.replace(\"Shoot 'Em Up\", \"Shoot Em Up\")\n",
    "        # Replace ' for \" if JSON is in a bad format\n",
    "        col = col.replace(\"{'\", '{\"')\n",
    "        col = col.replace(\"':\", '\":')\n",
    "        col = col.replace(\", '\", ', \"')\n",
    "        # Transform dict into list of tuples\n",
    "        list_tags = []\n",
    "        tags_data = dict(json.loads(col))\n",
    "        for tag, count in tags_data.items():\n",
    "            list_tags.append((tag, count))\n",
    "        return list_tags\n",
    "\n",
    "string = r'''{\"2D Platformer\": 52, \"Action\": 51, \"Platformer\": 46, \"Shoot 'Em Up\": 43, \"Singleplayer\": 40, \"Casual\": 39, \"2D\": 37, \"Controller\": 29, \"Arcade\": 27, \"Pixel Graphics\": 25, \"Retro\": 23, \"Indie\": 21, \"Combat\": 21, \"Collectathon\": 17, \"Action-Adventure\": 15, \"Old School\": 13}'''\n",
    "transform_tags_column(string)"
   ]
  },
  {
   "cell_type": "code",
   "execution_count": 17,
   "metadata": {},
   "outputs": [],
   "source": [
    "def normalize_json_column(\n",
    "        original_df: pd.DataFrame,\n",
    "        id_column: str,\n",
    "        json_column: str,\n",
    "        new_table_id_column: str\n",
    "    ) -> tuple:\n",
    "        # Create a copy of original dataframe\n",
    "        df = original_df.copy()\n",
    "        # \n",
    "\n",
    "        # Create new table with unique values from that column\n",
    "        df_new_table = pd.DataFrame(df.explode(json_column)[json_column])\n",
    "        df_new_table[json_column] = df_new_table[json_column] .apply(lambda x : x.strip())\n",
    "        df_new_table = df_new_table.drop_duplicates(subset=json_column)\n",
    "        df_new_table = df_new_table[df_new_table[json_column]!='nan']\n",
    "        df_new_table = df_new_table.reset_index(drop=True).reset_index(names=new_table_id_column)\n",
    "\n",
    "        # Create new intermediate table that joins two tables\n",
    "        df_intermediate_table = df.explode(json_column)[[id_column, json_column]].reset_index(drop=True)\n",
    "        df_intermediate_table = df_intermediate_table[df_intermediate_table[json_column]!='nan']\n",
    "        df_intermediate_table[json_column] = df_intermediate_table[json_column].apply(lambda x : x.strip())\n",
    "        df_intermediate_table = df_intermediate_table.merge(df_new_table, on=json_column, how='left').drop(json_column, axis=1)\n",
    "\n",
    "        # Drop list column from original table\n",
    "        df.drop(columns=[json_column], inplace=True)\n",
    "\n",
    "        # Return 3 dataframes in a tuple\n",
    "        return df, df_new_table, df_intermediate_table\n"
   ]
  },
  {
   "cell_type": "code",
   "execution_count": 20,
   "metadata": {},
   "outputs": [
    {
     "ename": "JSONDecodeError",
     "evalue": "Expecting property name enclosed in double quotes: line 1 column 2 (char 1)",
     "output_type": "error",
     "traceback": [
      "\u001b[1;31m---------------------------------------------------------------------------\u001b[0m",
      "\u001b[1;31mJSONDecodeError\u001b[0m                           Traceback (most recent call last)",
      "Cell \u001b[1;32mIn[20], line 2\u001b[0m\n\u001b[0;32m      1\u001b[0m string: \u001b[39mstr\u001b[39m \u001b[39m=\u001b[39m \u001b[39m\"\u001b[39m\u001b[39m{\u001b[39m\u001b[39m'\u001b[39m\u001b[39mSports\u001b[39m\u001b[39m'\u001b[39m\u001b[39m: 57, \u001b[39m\u001b[39m'\u001b[39m\u001b[39mSimulation\u001b[39m\u001b[39m'\u001b[39m\u001b[39m: 54, \u001b[39m\u001b[39m'\u001b[39m\u001b[39mStrategy\u001b[39m\u001b[39m'\u001b[39m\u001b[39m: 51, \u001b[39m\u001b[39m'\u001b[39m\u001b[39mBasketball\u001b[39m\u001b[39m'\u001b[39m\u001b[39m: 43, \u001b[39m\u001b[39m'\u001b[39m\u001b[39m2D\u001b[39m\u001b[39m'\u001b[39m\u001b[39m: 28, \u001b[39m\u001b[39m'\u001b[39m\u001b[39mSingleplayer\u001b[39m\u001b[39m'\u001b[39m\u001b[39m: 22, \u001b[39m\u001b[39m'\u001b[39m\u001b[39mIndie\u001b[39m\u001b[39m'\u001b[39m\u001b[39m: 21}\u001b[39m\u001b[39m\"\u001b[39m\n\u001b[1;32m----> 2\u001b[0m json\u001b[39m.\u001b[39;49mloads(string)\n",
      "File \u001b[1;32m~\\AppData\\Local\\Programs\\Python\\Python310\\lib\\json\\__init__.py:346\u001b[0m, in \u001b[0;36mloads\u001b[1;34m(s, cls, object_hook, parse_float, parse_int, parse_constant, object_pairs_hook, **kw)\u001b[0m\n\u001b[0;32m    341\u001b[0m     s \u001b[39m=\u001b[39m s\u001b[39m.\u001b[39mdecode(detect_encoding(s), \u001b[39m'\u001b[39m\u001b[39msurrogatepass\u001b[39m\u001b[39m'\u001b[39m)\n\u001b[0;32m    343\u001b[0m \u001b[39mif\u001b[39;00m (\u001b[39mcls\u001b[39m \u001b[39mis\u001b[39;00m \u001b[39mNone\u001b[39;00m \u001b[39mand\u001b[39;00m object_hook \u001b[39mis\u001b[39;00m \u001b[39mNone\u001b[39;00m \u001b[39mand\u001b[39;00m\n\u001b[0;32m    344\u001b[0m         parse_int \u001b[39mis\u001b[39;00m \u001b[39mNone\u001b[39;00m \u001b[39mand\u001b[39;00m parse_float \u001b[39mis\u001b[39;00m \u001b[39mNone\u001b[39;00m \u001b[39mand\u001b[39;00m\n\u001b[0;32m    345\u001b[0m         parse_constant \u001b[39mis\u001b[39;00m \u001b[39mNone\u001b[39;00m \u001b[39mand\u001b[39;00m object_pairs_hook \u001b[39mis\u001b[39;00m \u001b[39mNone\u001b[39;00m \u001b[39mand\u001b[39;00m \u001b[39mnot\u001b[39;00m kw):\n\u001b[1;32m--> 346\u001b[0m     \u001b[39mreturn\u001b[39;00m _default_decoder\u001b[39m.\u001b[39;49mdecode(s)\n\u001b[0;32m    347\u001b[0m \u001b[39mif\u001b[39;00m \u001b[39mcls\u001b[39m \u001b[39mis\u001b[39;00m \u001b[39mNone\u001b[39;00m:\n\u001b[0;32m    348\u001b[0m     \u001b[39mcls\u001b[39m \u001b[39m=\u001b[39m JSONDecoder\n",
      "File \u001b[1;32m~\\AppData\\Local\\Programs\\Python\\Python310\\lib\\json\\decoder.py:337\u001b[0m, in \u001b[0;36mJSONDecoder.decode\u001b[1;34m(self, s, _w)\u001b[0m\n\u001b[0;32m    332\u001b[0m \u001b[39mdef\u001b[39;00m \u001b[39mdecode\u001b[39m(\u001b[39mself\u001b[39m, s, _w\u001b[39m=\u001b[39mWHITESPACE\u001b[39m.\u001b[39mmatch):\n\u001b[0;32m    333\u001b[0m \u001b[39m    \u001b[39m\u001b[39m\"\"\"Return the Python representation of ``s`` (a ``str`` instance\u001b[39;00m\n\u001b[0;32m    334\u001b[0m \u001b[39m    containing a JSON document).\u001b[39;00m\n\u001b[0;32m    335\u001b[0m \n\u001b[0;32m    336\u001b[0m \u001b[39m    \"\"\"\u001b[39;00m\n\u001b[1;32m--> 337\u001b[0m     obj, end \u001b[39m=\u001b[39m \u001b[39mself\u001b[39;49m\u001b[39m.\u001b[39;49mraw_decode(s, idx\u001b[39m=\u001b[39;49m_w(s, \u001b[39m0\u001b[39;49m)\u001b[39m.\u001b[39;49mend())\n\u001b[0;32m    338\u001b[0m     end \u001b[39m=\u001b[39m _w(s, end)\u001b[39m.\u001b[39mend()\n\u001b[0;32m    339\u001b[0m     \u001b[39mif\u001b[39;00m end \u001b[39m!=\u001b[39m \u001b[39mlen\u001b[39m(s):\n",
      "File \u001b[1;32m~\\AppData\\Local\\Programs\\Python\\Python310\\lib\\json\\decoder.py:353\u001b[0m, in \u001b[0;36mJSONDecoder.raw_decode\u001b[1;34m(self, s, idx)\u001b[0m\n\u001b[0;32m    344\u001b[0m \u001b[39m\u001b[39m\u001b[39m\"\"\"Decode a JSON document from ``s`` (a ``str`` beginning with\u001b[39;00m\n\u001b[0;32m    345\u001b[0m \u001b[39ma JSON document) and return a 2-tuple of the Python\u001b[39;00m\n\u001b[0;32m    346\u001b[0m \u001b[39mrepresentation and the index in ``s`` where the document ended.\u001b[39;00m\n\u001b[1;32m   (...)\u001b[0m\n\u001b[0;32m    350\u001b[0m \n\u001b[0;32m    351\u001b[0m \u001b[39m\"\"\"\u001b[39;00m\n\u001b[0;32m    352\u001b[0m \u001b[39mtry\u001b[39;00m:\n\u001b[1;32m--> 353\u001b[0m     obj, end \u001b[39m=\u001b[39m \u001b[39mself\u001b[39;49m\u001b[39m.\u001b[39;49mscan_once(s, idx)\n\u001b[0;32m    354\u001b[0m \u001b[39mexcept\u001b[39;00m \u001b[39mStopIteration\u001b[39;00m \u001b[39mas\u001b[39;00m err:\n\u001b[0;32m    355\u001b[0m     \u001b[39mraise\u001b[39;00m JSONDecodeError(\u001b[39m\"\u001b[39m\u001b[39mExpecting value\u001b[39m\u001b[39m\"\u001b[39m, s, err\u001b[39m.\u001b[39mvalue) \u001b[39mfrom\u001b[39;00m \u001b[39mNone\u001b[39m\n",
      "\u001b[1;31mJSONDecodeError\u001b[0m: Expecting property name enclosed in double quotes: line 1 column 2 (char 1)"
     ]
    }
   ],
   "source": [
    "string: str = \"{'Sports': 57, 'Simulation': 54, 'Strategy': 51, 'Basketball': 43, '2D': 28, 'Singleplayer': 22, 'Indie': 21}\"\n",
    "json.loads(string)"
   ]
  },
  {
   "cell_type": "code",
   "execution_count": null,
   "metadata": {},
   "outputs": [],
   "source": [
    "df1, df2, df3 = normalize_json_column(\n",
    "    original_df=df,\n",
    "    id_column='id_app',\n",
    "    json_column='tags',\n",
    "    new_table_id_column='tag'\n",
    ")"
   ]
  },
  {
   "cell_type": "code",
   "execution_count": 11,
   "metadata": {},
   "outputs": [
    {
     "data": {
      "text/html": [
       "<div>\n",
       "<style scoped>\n",
       "    .dataframe tbody tr th:only-of-type {\n",
       "        vertical-align: middle;\n",
       "    }\n",
       "\n",
       "    .dataframe tbody tr th {\n",
       "        vertical-align: top;\n",
       "    }\n",
       "\n",
       "    .dataframe thead th {\n",
       "        text-align: right;\n",
       "    }\n",
       "</style>\n",
       "<table border=\"1\" class=\"dataframe\">\n",
       "  <thead>\n",
       "    <tr style=\"text-align: right;\">\n",
       "      <th></th>\n",
       "      <th>tag</th>\n",
       "      <th>tags</th>\n",
       "    </tr>\n",
       "  </thead>\n",
       "  <tbody>\n",
       "    <tr>\n",
       "      <th>0</th>\n",
       "      <td>0</td>\n",
       "      <td>[]</td>\n",
       "    </tr>\n",
       "    <tr>\n",
       "      <th>1</th>\n",
       "      <td>1</td>\n",
       "      <td>{'Sports': 57, 'Simulation': 54, 'Strategy': 5...</td>\n",
       "    </tr>\n",
       "    <tr>\n",
       "      <th>2</th>\n",
       "      <td>2</td>\n",
       "      <td>{'Casual': 73, 'Arcade': 47, 'e-sports': 44, '...</td>\n",
       "    </tr>\n",
       "    <tr>\n",
       "      <th>3</th>\n",
       "      <td>3</td>\n",
       "      <td>{'Casual': 68, 'Strategy': 61, 'Arcade': 39, '...</td>\n",
       "    </tr>\n",
       "    <tr>\n",
       "      <th>4</th>\n",
       "      <td>4</td>\n",
       "      <td>{'Pixel Graphics': 54, 'Cute': 47, 'Automation...</td>\n",
       "    </tr>\n",
       "    <tr>\n",
       "      <th>...</th>\n",
       "      <td>...</td>\n",
       "      <td>...</td>\n",
       "    </tr>\n",
       "    <tr>\n",
       "      <th>62481</th>\n",
       "      <td>62481</td>\n",
       "      <td>{'RPG': 82, 'Strategy': 72, 'JRPG': 59, 'Strat...</td>\n",
       "    </tr>\n",
       "    <tr>\n",
       "      <th>62482</th>\n",
       "      <td>62482</td>\n",
       "      <td>{'MOBA': 264, 'Third Person': 252, 'Strategy':...</td>\n",
       "    </tr>\n",
       "    <tr>\n",
       "      <th>62483</th>\n",
       "      <td>62483</td>\n",
       "      <td>{'Colorful': 380, 'Rogue-lite': 375, 'RPG': 36...</td>\n",
       "    </tr>\n",
       "    <tr>\n",
       "      <th>62484</th>\n",
       "      <td>62484</td>\n",
       "      <td>{'Early Access': 173, 'City Builder': 157, 'Hi...</td>\n",
       "    </tr>\n",
       "    <tr>\n",
       "      <th>62485</th>\n",
       "      <td>62485</td>\n",
       "      <td>{'Early Access': 269, 'Immersive Sim': 244, 'S...</td>\n",
       "    </tr>\n",
       "  </tbody>\n",
       "</table>\n",
       "<p>62486 rows × 2 columns</p>\n",
       "</div>"
      ],
      "text/plain": [
       "         tag                                               tags\n",
       "0          0                                                 []\n",
       "1          1  {'Sports': 57, 'Simulation': 54, 'Strategy': 5...\n",
       "2          2  {'Casual': 73, 'Arcade': 47, 'e-sports': 44, '...\n",
       "3          3  {'Casual': 68, 'Strategy': 61, 'Arcade': 39, '...\n",
       "4          4  {'Pixel Graphics': 54, 'Cute': 47, 'Automation...\n",
       "...      ...                                                ...\n",
       "62481  62481  {'RPG': 82, 'Strategy': 72, 'JRPG': 59, 'Strat...\n",
       "62482  62482  {'MOBA': 264, 'Third Person': 252, 'Strategy':...\n",
       "62483  62483  {'Colorful': 380, 'Rogue-lite': 375, 'RPG': 36...\n",
       "62484  62484  {'Early Access': 173, 'City Builder': 157, 'Hi...\n",
       "62485  62485  {'Early Access': 269, 'Immersive Sim': 244, 'S...\n",
       "\n",
       "[62486 rows x 2 columns]"
      ]
     },
     "execution_count": 11,
     "metadata": {},
     "output_type": "execute_result"
    }
   ],
   "source": [
    "df2"
   ]
  },
  {
   "cell_type": "code",
   "execution_count": 254,
   "metadata": {},
   "outputs": [
    {
     "data": {
      "text/plain": [
       "110086"
      ]
     },
     "execution_count": 254,
     "metadata": {},
     "output_type": "execute_result"
    }
   ],
   "source": [
    "len(df3)"
   ]
  },
  {
   "cell_type": "code",
   "execution_count": 214,
   "metadata": {},
   "outputs": [],
   "source": [
    "def transform_languages_column(\n",
    "       col: str\n",
    "    ) -> str:\n",
    "    # Chars to remove\n",
    "    invalid_chars = ['strong', 'amp', '*', '&', 'lt;', 'gt;', ';', r'\\/', '/', 'br']\n",
    "\n",
    "    # Make column a list\n",
    "    languages = col.split(',')\n",
    "    for idx, lang in enumerate(languages):\n",
    "        # Remove invalid chars\n",
    "        for char in invalid_chars:\n",
    "            lang = lang.replace(char, '')\n",
    "        # Replace \\r for ' - ' for languages like 'English\\nInterface: English\\nFull Audio: Flemish\\nSubtitles'\n",
    "        lang = lang.replace('\\r\\n', ' - ')\n",
    "        # Remove whitespaces\n",
    "        lang = lang.strip()\n",
    "        # Reflect changes in the list\n",
    "        languages[idx] = lang\n",
    "\n",
    "    # Filter random Steam languages like '#lang_#lang_spanish*#lang_full_audio'\n",
    "    for lang in languages:\n",
    "        if lang.startswith('#'):\n",
    "            languages.remove(lang)\n",
    "\n",
    "    return languages\n",
    "\n",
    "# string = \"English&lt;strong&gt;*&lt;\\/strong&gt;, German, French, Polish, Spanish - Spain&lt;br&gt;&lt;br&gt;&lt;strong&gt;*&lt;\\/strong&gt; \"\n",
    "# transform_languages_column(string)"
   ]
  },
  {
   "cell_type": "code",
   "execution_count": 216,
   "metadata": {},
   "outputs": [],
   "source": [
    "df[\"languages\"] = df[\"languages\"].apply(lambda x: transform_languages_column(str(x)))"
   ]
  },
  {
   "cell_type": "code",
   "execution_count": 217,
   "metadata": {},
   "outputs": [],
   "source": [
    "df_apps, df_languages, df_apps_languages = normalize_list_column(\n",
    "    original_df=df,\n",
    "    id_column='id_app',\n",
    "    list_column='languages',\n",
    "    new_table_id_column='id_language'\n",
    ")"
   ]
  },
  {
   "cell_type": "code",
   "execution_count": 218,
   "metadata": {},
   "outputs": [
    {
     "data": {
      "text/plain": [
       "array(['English', 'French', 'Italian', 'German', 'Spanish - Spain',\n",
       "       'Japanese', 'Korean', 'Polish', 'Portuguese - Portugal', 'Russian',\n",
       "       'Simplified Chinese', 'Traditional Chinese', 'Portuguese - Brazil',\n",
       "       'Spanish - Latin America', 'Arabic', 'Bulgarian', 'Hungarian',\n",
       "       'Vietnamese', 'Greek', 'Danish', 'Dutch', 'Norwegian', 'Romanian',\n",
       "       'Thai', 'Turkish', 'Ukrainian', 'Finnish', 'Czech', 'Swedish',\n",
       "       'Indonesian', 'Not supported', 'Hindi', 'Slovak', 'Bangla',\n",
       "       'Galician', 'Malay', 'Catalan', 'Persian', 'Kazakh', 'Mongolian',\n",
       "       'Khmer', 'Tamil', 'Filipino', 'Azerbaijani', 'Belarusian',\n",
       "       'Bosnian', 'Croatian', 'Estonian', 'Irish', 'Icelandic',\n",
       "       'Lithuanian', 'Nepali', 'Serbian', 'Latvian', 'Heew', 'Swahili',\n",
       "       'Urdu', 'Portuguese', 'Welsh', 'Albanian', 'Georgian', 'Uzbek',\n",
       "       'Basque', 'Luxembourgish', 'Afrikaans', 'Slovenian', 'Valencian',\n",
       "       'Spanish', 'Scots', 'Portuguese-Brazil', 'Maori', 'Marathi',\n",
       "       'Macedonian', 'English (full audio)', 'French (Subtitles)',\n",
       "       'German  (Subtitles)', 'Italian  (Subtitles)',\n",
       "       'Spanish - Spain  (Subtitles)', 'Spanish  (Subtitles)',\n",
       "       'English - Interface: English - Full Audio: Flemish - Subtitles: English',\n",
       "       '(all with full audio support)',\n",
       "       'Japanese (all with full audio support)', 'Kannada', 'Telugu',\n",
       "       'Dari', 'Punjabi (Gurmukhi)'], dtype=object)"
      ]
     },
     "execution_count": 218,
     "metadata": {},
     "output_type": "execute_result"
    }
   ],
   "source": [
    "df_languages.languages.values"
   ]
  },
  {
   "cell_type": "code",
   "execution_count": 220,
   "metadata": {},
   "outputs": [
    {
     "data": {
      "text/html": [
       "<div>\n",
       "<style scoped>\n",
       "    .dataframe tbody tr th:only-of-type {\n",
       "        vertical-align: middle;\n",
       "    }\n",
       "\n",
       "    .dataframe tbody tr th {\n",
       "        vertical-align: top;\n",
       "    }\n",
       "\n",
       "    .dataframe thead th {\n",
       "        text-align: right;\n",
       "    }\n",
       "</style>\n",
       "<table border=\"1\" class=\"dataframe\">\n",
       "  <thead>\n",
       "    <tr style=\"text-align: right;\">\n",
       "      <th></th>\n",
       "      <th>id_language</th>\n",
       "      <th>languages</th>\n",
       "    </tr>\n",
       "  </thead>\n",
       "  <tbody>\n",
       "    <tr>\n",
       "      <th>80</th>\n",
       "      <td>80</td>\n",
       "      <td>(all with full audio support)</td>\n",
       "    </tr>\n",
       "  </tbody>\n",
       "</table>\n",
       "</div>"
      ],
      "text/plain": [
       "    id_language                      languages\n",
       "80           80  (all with full audio support)"
      ]
     },
     "execution_count": 220,
     "metadata": {},
     "output_type": "execute_result"
    }
   ],
   "source": [
    "df_languages[df_languages[\"languages\"]=='(all with full audio support)']"
   ]
  },
  {
   "cell_type": "code",
   "execution_count": 221,
   "metadata": {},
   "outputs": [
    {
     "data": {
      "text/html": [
       "<div>\n",
       "<style scoped>\n",
       "    .dataframe tbody tr th:only-of-type {\n",
       "        vertical-align: middle;\n",
       "    }\n",
       "\n",
       "    .dataframe tbody tr th {\n",
       "        vertical-align: top;\n",
       "    }\n",
       "\n",
       "    .dataframe thead th {\n",
       "        text-align: right;\n",
       "    }\n",
       "</style>\n",
       "<table border=\"1\" class=\"dataframe\">\n",
       "  <thead>\n",
       "    <tr style=\"text-align: right;\">\n",
       "      <th></th>\n",
       "      <th>id_app</th>\n",
       "      <th>id_language</th>\n",
       "    </tr>\n",
       "  </thead>\n",
       "  <tbody>\n",
       "    <tr>\n",
       "      <th>291720</th>\n",
       "      <td>13000</td>\n",
       "      <td>80</td>\n",
       "    </tr>\n",
       "  </tbody>\n",
       "</table>\n",
       "</div>"
      ],
      "text/plain": [
       "        id_app  id_language\n",
       "291720   13000           80"
      ]
     },
     "execution_count": 221,
     "metadata": {},
     "output_type": "execute_result"
    }
   ],
   "source": [
    "df_apps_languages[df_apps_languages[\"id_language\"]==80]"
   ]
  },
  {
   "cell_type": "code",
   "execution_count": 32,
   "metadata": {},
   "outputs": [
    {
     "data": {
      "text/html": [
       "<div>\n",
       "<style scoped>\n",
       "    .dataframe tbody tr th:only-of-type {\n",
       "        vertical-align: middle;\n",
       "    }\n",
       "\n",
       "    .dataframe tbody tr th {\n",
       "        vertical-align: top;\n",
       "    }\n",
       "\n",
       "    .dataframe thead th {\n",
       "        text-align: right;\n",
       "    }\n",
       "</style>\n",
       "<table border=\"1\" class=\"dataframe\">\n",
       "  <thead>\n",
       "    <tr style=\"text-align: right;\">\n",
       "      <th></th>\n",
       "      <th>id_app</th>\n",
       "      <th>name</th>\n",
       "      <th>developer</th>\n",
       "      <th>publisher</th>\n",
       "      <th>score_rank</th>\n",
       "      <th>owners</th>\n",
       "      <th>average_forever</th>\n",
       "      <th>average_2weeks</th>\n",
       "      <th>median_forever</th>\n",
       "      <th>median_2weeks</th>\n",
       "      <th>ccu</th>\n",
       "      <th>price</th>\n",
       "      <th>initialprice</th>\n",
       "      <th>discount</th>\n",
       "      <th>tags</th>\n",
       "      <th>languages</th>\n",
       "      <th>genre</th>\n",
       "      <th>price_usd</th>\n",
       "      <th>initial_price_usd</th>\n",
       "    </tr>\n",
       "  </thead>\n",
       "  <tbody>\n",
       "    <tr>\n",
       "      <th>55936</th>\n",
       "      <td>1251690</td>\n",
       "      <td>My Hole is a Mouth of Dirt</td>\n",
       "      <td>Yai Gameworks</td>\n",
       "      <td>Yai Gameworks</td>\n",
       "      <td>NaN</td>\n",
       "      <td>0 .. 20,000</td>\n",
       "      <td>0</td>\n",
       "      <td>0</td>\n",
       "      <td>0</td>\n",
       "      <td>0</td>\n",
       "      <td>0</td>\n",
       "      <td>0.0</td>\n",
       "      <td>0.0</td>\n",
       "      <td>0.0</td>\n",
       "      <td>{'Indie': 58, 'Adventure': 57, 'Violent': 34, ...</td>\n",
       "      <td>English</td>\n",
       "      <td>Adventure, Indie</td>\n",
       "      <td>0.0</td>\n",
       "      <td>0.0</td>\n",
       "    </tr>\n",
       "  </tbody>\n",
       "</table>\n",
       "</div>"
      ],
      "text/plain": [
       "        id_app                        name      developer      publisher  \\\n",
       "55936  1251690  My Hole is a Mouth of Dirt  Yai Gameworks  Yai Gameworks   \n",
       "\n",
       "       score_rank       owners  average_forever  average_2weeks  \\\n",
       "55936         NaN  0 .. 20,000                0               0   \n",
       "\n",
       "       median_forever  median_2weeks  ccu  price  initialprice  discount  \\\n",
       "55936               0              0    0    0.0           0.0       0.0   \n",
       "\n",
       "                                                    tags languages  \\\n",
       "55936  {'Indie': 58, 'Adventure': 57, 'Violent': 34, ...   English   \n",
       "\n",
       "                  genre  price_usd  initial_price_usd  \n",
       "55936  Adventure, Indie        0.0                0.0  "
      ]
     },
     "execution_count": 32,
     "metadata": {},
     "output_type": "execute_result"
    }
   ],
   "source": [
    "df.sample(1)"
   ]
  }
 ],
 "metadata": {
  "kernelspec": {
   "display_name": "Python 3",
   "language": "python",
   "name": "python3"
  },
  "language_info": {
   "codemirror_mode": {
    "name": "ipython",
    "version": 3
   },
   "file_extension": ".py",
   "mimetype": "text/x-python",
   "name": "python",
   "nbconvert_exporter": "python",
   "pygments_lexer": "ipython3",
   "version": "3.10.7"
  },
  "orig_nbformat": 4
 },
 "nbformat": 4,
 "nbformat_minor": 2
}
